{
 "cells": [
  {
   "cell_type": "code",
   "execution_count": 1,
   "metadata": {},
   "outputs": [],
   "source": [
    "#import \n",
    "import pandas as pd \n",
    "import datetime"
   ]
  },
  {
   "cell_type": "code",
   "execution_count": 2,
   "metadata": {},
   "outputs": [
    {
     "data": {
      "text/plain": [
       "datetime.datetime(2023, 1, 21, 16, 32, 18, 295452)"
      ]
     },
     "execution_count": 2,
     "metadata": {},
     "output_type": "execute_result"
    }
   ],
   "source": [
    "data_atual = datetime.datetime.now()\n",
    "data_atual"
   ]
  },
  {
   "cell_type": "code",
   "execution_count": 5,
   "metadata": {},
   "outputs": [
    {
     "data": {
      "text/plain": [
       "[datetime.datetime(2023, 1, 21, 16, 32, 18, 295452),\n",
       " datetime.datetime(2023, 1, 20, 16, 32, 18, 295452),\n",
       " datetime.datetime(2023, 1, 19, 16, 32, 18, 295452),\n",
       " datetime.datetime(2023, 1, 18, 16, 32, 18, 295452),\n",
       " datetime.datetime(2023, 1, 17, 16, 32, 18, 295452),\n",
       " datetime.datetime(2023, 1, 16, 16, 32, 18, 295452),\n",
       " datetime.datetime(2023, 1, 15, 16, 32, 18, 295452),\n",
       " datetime.datetime(2023, 1, 14, 16, 32, 18, 295452),\n",
       " datetime.datetime(2023, 1, 13, 16, 32, 18, 295452),\n",
       " datetime.datetime(2023, 1, 12, 16, 32, 18, 295452),\n",
       " datetime.datetime(2023, 1, 11, 16, 32, 18, 295452),\n",
       " datetime.datetime(2023, 1, 10, 16, 32, 18, 295452),\n",
       " datetime.datetime(2023, 1, 9, 16, 32, 18, 295452),\n",
       " datetime.datetime(2023, 1, 8, 16, 32, 18, 295452),\n",
       " datetime.datetime(2023, 1, 7, 16, 32, 18, 295452),\n",
       " datetime.datetime(2023, 1, 6, 16, 32, 18, 295452),\n",
       " datetime.datetime(2023, 1, 5, 16, 32, 18, 295452),\n",
       " datetime.datetime(2023, 1, 4, 16, 32, 18, 295452),\n",
       " datetime.datetime(2023, 1, 3, 16, 32, 18, 295452),\n",
       " datetime.datetime(2023, 1, 2, 16, 32, 18, 295452)]"
      ]
     },
     "execution_count": 5,
     "metadata": {},
     "output_type": "execute_result"
    }
   ],
   "source": [
    "data_list = [ data_atual - datetime.timedelta(days= x) for x in range(0, 20) ]\n",
    "data_list"
   ]
  },
  {
   "cell_type": "code",
   "execution_count": 9,
   "metadata": {},
   "outputs": [
    {
     "data": {
      "text/html": [
       "<div>\n",
       "<style scoped>\n",
       "    .dataframe tbody tr th:only-of-type {\n",
       "        vertical-align: middle;\n",
       "    }\n",
       "\n",
       "    .dataframe tbody tr th {\n",
       "        vertical-align: top;\n",
       "    }\n",
       "\n",
       "    .dataframe thead th {\n",
       "        text-align: right;\n",
       "    }\n",
       "</style>\n",
       "<table border=\"1\" class=\"dataframe\">\n",
       "  <thead>\n",
       "    <tr style=\"text-align: right;\">\n",
       "      <th></th>\n",
       "      <th>data</th>\n",
       "    </tr>\n",
       "  </thead>\n",
       "  <tbody>\n",
       "    <tr>\n",
       "      <th>0</th>\n",
       "      <td>2023-01-21 16:32:18.295452</td>\n",
       "    </tr>\n",
       "    <tr>\n",
       "      <th>1</th>\n",
       "      <td>2023-01-20 16:32:18.295452</td>\n",
       "    </tr>\n",
       "    <tr>\n",
       "      <th>2</th>\n",
       "      <td>2023-01-19 16:32:18.295452</td>\n",
       "    </tr>\n",
       "    <tr>\n",
       "      <th>3</th>\n",
       "      <td>2023-01-18 16:32:18.295452</td>\n",
       "    </tr>\n",
       "    <tr>\n",
       "      <th>4</th>\n",
       "      <td>2023-01-17 16:32:18.295452</td>\n",
       "    </tr>\n",
       "    <tr>\n",
       "      <th>5</th>\n",
       "      <td>2023-01-16 16:32:18.295452</td>\n",
       "    </tr>\n",
       "    <tr>\n",
       "      <th>6</th>\n",
       "      <td>2023-01-15 16:32:18.295452</td>\n",
       "    </tr>\n",
       "    <tr>\n",
       "      <th>7</th>\n",
       "      <td>2023-01-14 16:32:18.295452</td>\n",
       "    </tr>\n",
       "    <tr>\n",
       "      <th>8</th>\n",
       "      <td>2023-01-13 16:32:18.295452</td>\n",
       "    </tr>\n",
       "    <tr>\n",
       "      <th>9</th>\n",
       "      <td>2023-01-12 16:32:18.295452</td>\n",
       "    </tr>\n",
       "    <tr>\n",
       "      <th>10</th>\n",
       "      <td>2023-01-11 16:32:18.295452</td>\n",
       "    </tr>\n",
       "    <tr>\n",
       "      <th>11</th>\n",
       "      <td>2023-01-10 16:32:18.295452</td>\n",
       "    </tr>\n",
       "    <tr>\n",
       "      <th>12</th>\n",
       "      <td>2023-01-09 16:32:18.295452</td>\n",
       "    </tr>\n",
       "    <tr>\n",
       "      <th>13</th>\n",
       "      <td>2023-01-08 16:32:18.295452</td>\n",
       "    </tr>\n",
       "    <tr>\n",
       "      <th>14</th>\n",
       "      <td>2023-01-07 16:32:18.295452</td>\n",
       "    </tr>\n",
       "    <tr>\n",
       "      <th>15</th>\n",
       "      <td>2023-01-06 16:32:18.295452</td>\n",
       "    </tr>\n",
       "    <tr>\n",
       "      <th>16</th>\n",
       "      <td>2023-01-05 16:32:18.295452</td>\n",
       "    </tr>\n",
       "    <tr>\n",
       "      <th>17</th>\n",
       "      <td>2023-01-04 16:32:18.295452</td>\n",
       "    </tr>\n",
       "    <tr>\n",
       "      <th>18</th>\n",
       "      <td>2023-01-03 16:32:18.295452</td>\n",
       "    </tr>\n",
       "    <tr>\n",
       "      <th>19</th>\n",
       "      <td>2023-01-02 16:32:18.295452</td>\n",
       "    </tr>\n",
       "  </tbody>\n",
       "</table>\n",
       "</div>"
      ],
      "text/plain": [
       "                         data\n",
       "0  2023-01-21 16:32:18.295452\n",
       "1  2023-01-20 16:32:18.295452\n",
       "2  2023-01-19 16:32:18.295452\n",
       "3  2023-01-18 16:32:18.295452\n",
       "4  2023-01-17 16:32:18.295452\n",
       "5  2023-01-16 16:32:18.295452\n",
       "6  2023-01-15 16:32:18.295452\n",
       "7  2023-01-14 16:32:18.295452\n",
       "8  2023-01-13 16:32:18.295452\n",
       "9  2023-01-12 16:32:18.295452\n",
       "10 2023-01-11 16:32:18.295452\n",
       "11 2023-01-10 16:32:18.295452\n",
       "12 2023-01-09 16:32:18.295452\n",
       "13 2023-01-08 16:32:18.295452\n",
       "14 2023-01-07 16:32:18.295452\n",
       "15 2023-01-06 16:32:18.295452\n",
       "16 2023-01-05 16:32:18.295452\n",
       "17 2023-01-04 16:32:18.295452\n",
       "18 2023-01-03 16:32:18.295452\n",
       "19 2023-01-02 16:32:18.295452"
      ]
     },
     "execution_count": 9,
     "metadata": {},
     "output_type": "execute_result"
    }
   ],
   "source": [
    "df = pd.DataFrame(data_list, columns=['data'])\n",
    "df"
   ]
  },
  {
   "cell_type": "code",
   "execution_count": 10,
   "metadata": {},
   "outputs": [],
   "source": [
    "df['dia_da_semana'] = df['data'].dt.day_name()"
   ]
  },
  {
   "cell_type": "code",
   "execution_count": 11,
   "metadata": {},
   "outputs": [
    {
     "data": {
      "text/html": [
       "<div>\n",
       "<style scoped>\n",
       "    .dataframe tbody tr th:only-of-type {\n",
       "        vertical-align: middle;\n",
       "    }\n",
       "\n",
       "    .dataframe tbody tr th {\n",
       "        vertical-align: top;\n",
       "    }\n",
       "\n",
       "    .dataframe thead th {\n",
       "        text-align: right;\n",
       "    }\n",
       "</style>\n",
       "<table border=\"1\" class=\"dataframe\">\n",
       "  <thead>\n",
       "    <tr style=\"text-align: right;\">\n",
       "      <th></th>\n",
       "      <th>data</th>\n",
       "      <th>dia_da_semana</th>\n",
       "    </tr>\n",
       "  </thead>\n",
       "  <tbody>\n",
       "    <tr>\n",
       "      <th>0</th>\n",
       "      <td>2023-01-21 16:32:18.295452</td>\n",
       "      <td>Saturday</td>\n",
       "    </tr>\n",
       "    <tr>\n",
       "      <th>1</th>\n",
       "      <td>2023-01-20 16:32:18.295452</td>\n",
       "      <td>Friday</td>\n",
       "    </tr>\n",
       "    <tr>\n",
       "      <th>2</th>\n",
       "      <td>2023-01-19 16:32:18.295452</td>\n",
       "      <td>Thursday</td>\n",
       "    </tr>\n",
       "    <tr>\n",
       "      <th>3</th>\n",
       "      <td>2023-01-18 16:32:18.295452</td>\n",
       "      <td>Wednesday</td>\n",
       "    </tr>\n",
       "    <tr>\n",
       "      <th>4</th>\n",
       "      <td>2023-01-17 16:32:18.295452</td>\n",
       "      <td>Tuesday</td>\n",
       "    </tr>\n",
       "  </tbody>\n",
       "</table>\n",
       "</div>"
      ],
      "text/plain": [
       "                        data dia_da_semana\n",
       "0 2023-01-21 16:32:18.295452      Saturday\n",
       "1 2023-01-20 16:32:18.295452        Friday\n",
       "2 2023-01-19 16:32:18.295452      Thursday\n",
       "3 2023-01-18 16:32:18.295452     Wednesday\n",
       "4 2023-01-17 16:32:18.295452       Tuesday"
      ]
     },
     "execution_count": 11,
     "metadata": {},
     "output_type": "execute_result"
    }
   ],
   "source": [
    "df.head()"
   ]
  },
  {
   "cell_type": "code",
   "execution_count": 18,
   "metadata": {},
   "outputs": [],
   "source": [
    "#Criando um dict para o mapeamento do dia da semana com o número correspondente \n",
    "dic_dia_da_semana = {\n",
    "    'Monday': 1,\n",
    "    'Thursday': 2,\n",
    "    'Wednesday': 3,\n",
    "    'Tuesday': 4,\n",
    "    'Friday': 5,\n",
    "    'Saturday': 6,\n",
    "    'Sunday': 7,\n",
    "}"
   ]
  },
  {
   "cell_type": "code",
   "execution_count": 19,
   "metadata": {},
   "outputs": [],
   "source": [
    "df['dia_da_semana_cod'] = df['dia_da_semana'].map(dic_dia_da_semana)"
   ]
  },
  {
   "cell_type": "code",
   "execution_count": 20,
   "metadata": {},
   "outputs": [
    {
     "data": {
      "text/html": [
       "<div>\n",
       "<style scoped>\n",
       "    .dataframe tbody tr th:only-of-type {\n",
       "        vertical-align: middle;\n",
       "    }\n",
       "\n",
       "    .dataframe tbody tr th {\n",
       "        vertical-align: top;\n",
       "    }\n",
       "\n",
       "    .dataframe thead th {\n",
       "        text-align: right;\n",
       "    }\n",
       "</style>\n",
       "<table border=\"1\" class=\"dataframe\">\n",
       "  <thead>\n",
       "    <tr style=\"text-align: right;\">\n",
       "      <th></th>\n",
       "      <th>data</th>\n",
       "      <th>dia_da_semana</th>\n",
       "      <th>dia_da_semana_cod</th>\n",
       "    </tr>\n",
       "  </thead>\n",
       "  <tbody>\n",
       "    <tr>\n",
       "      <th>0</th>\n",
       "      <td>2023-01-21 16:32:18.295452</td>\n",
       "      <td>Saturday</td>\n",
       "      <td>6</td>\n",
       "    </tr>\n",
       "    <tr>\n",
       "      <th>1</th>\n",
       "      <td>2023-01-20 16:32:18.295452</td>\n",
       "      <td>Friday</td>\n",
       "      <td>5</td>\n",
       "    </tr>\n",
       "    <tr>\n",
       "      <th>2</th>\n",
       "      <td>2023-01-19 16:32:18.295452</td>\n",
       "      <td>Thursday</td>\n",
       "      <td>2</td>\n",
       "    </tr>\n",
       "    <tr>\n",
       "      <th>3</th>\n",
       "      <td>2023-01-18 16:32:18.295452</td>\n",
       "      <td>Wednesday</td>\n",
       "      <td>3</td>\n",
       "    </tr>\n",
       "    <tr>\n",
       "      <th>4</th>\n",
       "      <td>2023-01-17 16:32:18.295452</td>\n",
       "      <td>Tuesday</td>\n",
       "      <td>4</td>\n",
       "    </tr>\n",
       "  </tbody>\n",
       "</table>\n",
       "</div>"
      ],
      "text/plain": [
       "                        data dia_da_semana  dia_da_semana_cod\n",
       "0 2023-01-21 16:32:18.295452      Saturday                  6\n",
       "1 2023-01-20 16:32:18.295452        Friday                  5\n",
       "2 2023-01-19 16:32:18.295452      Thursday                  2\n",
       "3 2023-01-18 16:32:18.295452     Wednesday                  3\n",
       "4 2023-01-17 16:32:18.295452       Tuesday                  4"
      ]
     },
     "execution_count": 20,
     "metadata": {},
     "output_type": "execute_result"
    }
   ],
   "source": [
    "df.head()"
   ]
  }
 ],
 "metadata": {
  "kernelspec": {
   "display_name": "env",
   "language": "python",
   "name": "python3"
  },
  "language_info": {
   "codemirror_mode": {
    "name": "ipython",
    "version": 3
   },
   "file_extension": ".py",
   "mimetype": "text/x-python",
   "name": "python",
   "nbconvert_exporter": "python",
   "pygments_lexer": "ipython3",
   "version": "3.11.0 (main, Oct 24 2022, 18:26:48) [MSC v.1933 64 bit (AMD64)]"
  },
  "orig_nbformat": 4,
  "vscode": {
   "interpreter": {
    "hash": "1493131acea90b8adb2566e07f90aefa22a9b06f24613a4558abe363de101fb3"
   }
  }
 },
 "nbformat": 4,
 "nbformat_minor": 2
}
